{
 "cells": [
  {
   "cell_type": "markdown",
   "metadata": {},
   "source": [
    "# Health Stats Part 1: Waist 2 Hip Ratios"
   ]
  },
  {
   "cell_type": "markdown",
   "metadata": {},
   "source": [
    "<!--- Write an explanation of the Waist To Hips Ratio statistic used by health professionals. Please include an explanation of what it is used for, exactly how it is calculated, and how to interpret the results. Note: Formmatting matters. Make this as professional as you can using Markdown.  --->\n",
    "\n",
    "The Waist to Hip Ratio is a stastistic used to for general health measurements and the prediction of future health problems. Some example of this use is found in stress, growth and development, sex characteristics, fertility, and cognitive ability. It is calculated by dividing the measurement of the waist by the measurement of the hips. The calculated ratio is interpreted a little differently for every use, however, a general note is that too high or two low of a ratio is a bad indicator. [Wikipedia](https://en.wikipedia.org/wiki/Waist–hip_ratio)\n",
    "\n",
    "<!--- feel free to use any web resources, including [Wikipedia](https://en.wikipedia.org/wiki/Waist%E2%80%93hip_ratio) or any other resources that you can find online. Just MAKE SURE you provide a link to every resource you decide to use. --->\n",
    "\n",
    "The formula for this ratio is represented as W/H with the 'W' representing the waist measurement and the 'H' representing the hips measurement. \n",
    "\n",
    "$ ratio_{w2h} = \\frac{w}{h} $\n",
    "\n",
    "<img src = 'https://upload.wikimedia.org/wikipedia/commons/d/dd/Waist-hip_ratio.svg' />\n",
    "\n",
    "| ----- | DGSP | DGSP | WHO | WHO | NIDDK | NIDDK |\n",
    "| ----- | Women | Men | Women | Men | Women | Men |\n",
    "| Under Weight | ----- | ----- | ----- | ----- | ----- | ----- |\n",
    "| Normal Weight | <.80 | <.90 | ----- | ----- | ----- | ----- |\n",
    "| Over Weight | .80-.84 | .90-.99 | ----- | ----- | ----- | ----- |\n",
    "| Obesity | >.85 | >1 | >.85 | >.9 | >.8 | >1 |\n",
    "\n",
    "[Wikipedia](https://en.wikipedia.org/wiki/Waist–hip_ratio)\n",
    "\n",
    "<!--- Including the formula, or that fancy diagram/table you see on wikipedia is DEFINITELY a good idea! How? The LaTeX equations section in [This link](https://jupyter-notebook.readthedocs.io/en/stable/examples/Notebook/Working%20With%20Markdown%20Cells.html) might help. --->\n",
    "\n",
    "<!--- For extra points, try to create a table similar to the one on the wikipedia page on your own. --->"
   ]
  },
  {
   "cell_type": "markdown",
   "metadata": {},
   "source": [
    "## Source Data "
   ]
  },
  {
   "cell_type": "markdown",
   "metadata": {},
   "source": [
    "<!--- Replace the text below with a Markdown bullet list that defines the columns of the CSV file. Be sure to indicate the data type for each column. --->\n",
    "\n",
    "<!--- Example can be: ID, unique identifier of each person, integer. Remember you need to put this into a bullet list! How? [This link](https://jupyternotebook.readthedocs.io/en/stable/examples/Notebook/Working%20With%20Markdown%20Cells.html) might help. --->\n",
    "**CSV Data Sheet**\n",
    "- Column 1: \n",
    "    - ID: unique identifier for each person\n",
    "        - Float\n",
    "- Column 2: \n",
    "    - Waist: measurement of a persons waist\n",
    "        - Float\n",
    "- Column 3:\n",
    "    - Hip: measurement of a persons hips\n",
    "        - Float\n",
    "- Column 4: \n",
    "    - Gender: categorizes the people into male or female\n",
    "        - String\n",
    "\n",
    "<!--- These two markdown cells are required in almost any analytical report. --->"
   ]
  },
  {
   "cell_type": "markdown",
   "metadata": {},
   "source": [
    "## Data Import\n",
    "\n",
    "For whatever type of analysis, we need to read in the data. \n",
    "\n",
    "This is the basic way how Python read-in data. \n",
    "\n",
    "For more information regarding this part, read Chapter 7 in your PY4E textbook."
   ]
  },
  {
   "cell_type": "code",
   "execution_count": 3,
   "metadata": {
    "collapsed": true
   },
   "outputs": [],
   "source": [
    "# Goal: Extract the data from the file\n",
    "\n",
    "# opens the w2h_data.csv for reading\n",
    "f = open(\"NERIw2h_data.csv\", \"r\")\n",
    "\n",
    "# loads the file into a list of strings, one string per line\n",
    "raw_lines = list(f)\n",
    "\n",
    "# closes the file\n",
    "f.close()"
   ]
  },
  {
   "cell_type": "markdown",
   "metadata": {},
   "source": [
    "Data are not useful when they are in the wrong data type, or have wrong values, missing values... \n",
    "\n",
    "Clean up your data is an important step in any analysis."
   ]
  },
  {
   "cell_type": "code",
   "execution_count": 9,
   "metadata": {
    "collapsed": true
   },
   "outputs": [
    {
     "name": "stdout",
     "output_type": "stream",
     "text": [
      "[1, 30, 32, 'M']\n",
      "[2, 32, 37, 'M']\n",
      "[3, 30, 36, 'M']\n",
      "[4, 33, 39, 'M']\n",
      "[5, 29, 33, 'M']\n",
      "[6, 32, 38, 'M']\n",
      "[7, 33, 42, 'M']\n",
      "[8, 30, 40, 'M']\n",
      "[9, 30, 37, 'M']\n",
      "[10, 32, 39, 'M']\n",
      "[11, 24, 35, 'F']\n",
      "[12, 25, 37, 'F']\n",
      "[13, 24, 37, 'F']\n",
      "[14, 22, 34, 'F']\n",
      "[15, 26, 38, 'F']\n",
      "[16, 26, 37, 'F']\n",
      "[17, 25, 38, 'F']\n",
      "[18, 26, 37, 'F']\n",
      "[19, 28, 40, 'F']\n",
      "[20, 23, 35, 'F']\n"
     ]
    }
   ],
   "source": [
    "# Goal: Scrub and convert the data, loading it into a new list called rows\n",
    "\n",
    "# Strips out newline '\\n' characters and converts to a list\n",
    "raw_rows = [r.rstrip('\\n').split(',') for r in raw_lines] # <--- Whoa. Why does this work? \n",
    "\n",
    "# Creates a new list `rows`, starting with just the column names\n",
    "rows = list() \n",
    "rows.append(raw_rows[0]);\n",
    "# Convert each `raw_row`, starting with the second\n",
    "for raw_row in raw_rows[1:]:\n",
    "    \n",
    "    # Note: the values in the `raw_row` list are all strings.\n",
    "    # Create a new list called `row` that converts each item in `raw_row` to the right data type  \n",
    "    row = [int(raw_row[0]),int(raw_row[1]),int(raw_row[2]),str(raw_row[3])] # FIX THIS; \n",
    "    # you'll need to use conversion functions above\n",
    "    # Append the new `row` to the `rows` list\n",
    "    rows.append(row)    \n",
    "# from here on out use the `rows` list instead of `raw_rows` or `raw_lines`\n",
    "    rows=row[0:]\n",
    "# You may want to print out `rows` to test whether your code above worked\n",
    "    print(rows)"
   ]
  },
  {
   "cell_type": "markdown",
   "metadata": {},
   "source": [
    "## Calculations\n",
    "\n",
    "Sometimes, the data given to you do not contain the values you need directly, you will need to calculate them somehow. \n",
    "\n",
    "In this part, you calculate two new features namely `W2H Ratio` and `Shape`."
   ]
  },
  {
   "cell_type": "code",
   "execution_count": 11,
   "metadata": {
    "collapsed": true
   },
   "outputs": [
    {
     "ename": "AttributeError",
     "evalue": "'int' object has no attribute 'append'",
     "output_type": "error",
     "traceback": [
      "\u001b[0;31m---------------------------------------------------------------------------\u001b[0m",
      "\u001b[0;31mAttributeError\u001b[0m                            Traceback (most recent call last)",
      "\u001b[0;32m<ipython-input-11-d8ca62f52cbd>\u001b[0m in \u001b[0;36m<module>\u001b[0;34m\u001b[0m\n\u001b[1;32m      1\u001b[0m \u001b[0;31m# Goal: For each row of data calculate and store the w2h_ratio and shape.\u001b[0m\u001b[0;34m\u001b[0m\u001b[0;34m\u001b[0m\u001b[0;34m\u001b[0m\u001b[0m\n\u001b[1;32m      2\u001b[0m \u001b[0;31m# Adds columns for the two new features\u001b[0m\u001b[0;34m\u001b[0m\u001b[0;34m\u001b[0m\u001b[0;34m\u001b[0m\u001b[0m\n\u001b[0;32m----> 3\u001b[0;31m \u001b[0mrows\u001b[0m\u001b[0;34m[\u001b[0m\u001b[0;36m0\u001b[0m\u001b[0;34m]\u001b[0m\u001b[0;34m.\u001b[0m\u001b[0mappend\u001b[0m\u001b[0;34m(\u001b[0m\u001b[0;34m[\u001b[0m\u001b[0;34m\"W2H Ratio\"\u001b[0m\u001b[0;34m,\u001b[0m\u001b[0;34m\"Shape\"\u001b[0m\u001b[0;34m]\u001b[0m\u001b[0;34m)\u001b[0m\u001b[0;34m\u001b[0m\u001b[0;34m\u001b[0m\u001b[0m\n\u001b[0m\u001b[1;32m      4\u001b[0m \u001b[0;34m\u001b[0m\u001b[0m\n\u001b[1;32m      5\u001b[0m \u001b[0;31m# For each row in the rows list, calculate the waist to hips ratio and shape\u001b[0m\u001b[0;34m\u001b[0m\u001b[0;34m\u001b[0m\u001b[0;34m\u001b[0m\u001b[0m\n",
      "\u001b[0;31mAttributeError\u001b[0m: 'int' object has no attribute 'append'"
     ]
    }
   ],
   "source": [
    "# Goal: For each row of data calculate and store the w2h_ratio and shape.\n",
    "# Adds columns for the two new features\n",
    "rows[0].append([\"W2H Ratio\",\"Shape\"])\n",
    "\n",
    "# For each row in the rows list, calculate the waist to hips ratio and shape\n",
    "for row in rows[1:]:\n",
    "    # Calculate the w2h_ratio \n",
    "    w2h_ratio = rows[1]/rows[2]\n",
    "    #1 # FIX THIS; you will need to take care about data types\n",
    "    print(w2h_ratio)\n",
    "    # Based on the ratio and the gender, set the variable shape to either 'Apple' or 'Pear'\n",
    "    if w2h_ratio <= .8:\n",
    "        shape = 'Pear' # FIX THIS; you will need to use a conditional\n",
    "    elif w2h_ratio >= .8:\n",
    "        shape = 'Apple'\n",
    "    # Add the new data to the end of the row\n",
    "    row += [w2h_ratio, shape] # note: += is shorthand for the extend method used above\n",
    "    \n",
    "print(rows)"
   ]
  },
  {
   "cell_type": "markdown",
   "metadata": {},
   "source": [
    "## Output\n",
    "\n",
    "In your analysis report, it is always helpful to display your data somehow.\n",
    "\n",
    "This is a very rudimentary way to displaying your data, including the original features and the new features you just calculated."
   ]
  },
  {
   "cell_type": "code",
   "execution_count": 6,
   "metadata": {
    "collapsed": false
   },
   "outputs": [
    {
     "ename": "TypeError",
     "evalue": "can only join an iterable",
     "output_type": "error",
     "traceback": [
      "\u001b[0;31m---------------------------------------------------------------------------\u001b[0m",
      "\u001b[0;31mTypeError\u001b[0m                                 Traceback (most recent call last)",
      "\u001b[0;32m<ipython-input-6-63d48f13374a>\u001b[0m in \u001b[0;36m<module>\u001b[0;34m\u001b[0m\n\u001b[1;32m      3\u001b[0m \u001b[0;31m# Note: this works, but we can do this much better with pandas\u001b[0m\u001b[0;34m\u001b[0m\u001b[0;34m\u001b[0m\u001b[0;34m\u001b[0m\u001b[0m\n\u001b[1;32m      4\u001b[0m \u001b[0mhtml_table\u001b[0m \u001b[0;34m=\u001b[0m \u001b[0;34m'<table><tr><th>'\u001b[0m\u001b[0;34m\u001b[0m\u001b[0;34m\u001b[0m\u001b[0m\n\u001b[0;32m----> 5\u001b[0;31m \u001b[0mhtml_table\u001b[0m \u001b[0;34m+=\u001b[0m \u001b[0;34m\"</th><th>\"\u001b[0m\u001b[0;34m.\u001b[0m\u001b[0mjoin\u001b[0m\u001b[0;34m(\u001b[0m\u001b[0mrows\u001b[0m\u001b[0;34m[\u001b[0m\u001b[0;36m0\u001b[0m\u001b[0;34m]\u001b[0m\u001b[0;34m)\u001b[0m\u001b[0;34m\u001b[0m\u001b[0;34m\u001b[0m\u001b[0m\n\u001b[0m\u001b[1;32m      6\u001b[0m \u001b[0mhtml_table\u001b[0m \u001b[0;34m+=\u001b[0m \u001b[0;34m'</th></tr>'\u001b[0m\u001b[0;34m\u001b[0m\u001b[0;34m\u001b[0m\u001b[0m\n\u001b[1;32m      7\u001b[0m \u001b[0;32mfor\u001b[0m \u001b[0mrow\u001b[0m \u001b[0;32min\u001b[0m \u001b[0mrows\u001b[0m\u001b[0;34m[\u001b[0m\u001b[0;36m1\u001b[0m\u001b[0;34m:\u001b[0m\u001b[0;34m]\u001b[0m\u001b[0;34m:\u001b[0m\u001b[0;34m\u001b[0m\u001b[0;34m\u001b[0m\u001b[0m\n",
      "\u001b[0;31mTypeError\u001b[0m: can only join an iterable"
     ]
    }
   ],
   "source": [
    "# Goal: pretty print the rows as an HTML table\n",
    "\n",
    "# Note: this works, but we can do this much better with pandas\n",
    "html_table = '<table><tr><th>'\n",
    "html_table += \"</th><th>\".join(rows[0])\n",
    "html_table += '</th></tr>'\n",
    "for row in rows[1:]:\n",
    "    html_table += \"<tr><td>\"\n",
    "    html_table += \"</td><td>\".join(str(col) for col in row)\n",
    "    html_table += \"</td></tr>\"\n",
    "html_table += \"</table>\"\n",
    "\n",
    "from IPython.display import HTML, display\n",
    "display(HTML(html_table))"
   ]
  },
  {
   "cell_type": "code",
   "execution_count": null,
   "metadata": {
    "collapsed": true
   },
   "outputs": [],
   "source": []
  }
 ],
 "metadata": {
  "kernelspec": {
   "display_name": "Python 3",
   "language": "python",
   "name": "python3"
  },
  "language_info": {
   "codemirror_mode": {
    "name": "ipython",
    "version": 3
   },
   "file_extension": ".py",
   "mimetype": "text/x-python",
   "name": "python",
   "nbconvert_exporter": "python",
   "pygments_lexer": "ipython3",
   "version": "3.6.7"
  }
 },
 "nbformat": 4,
 "nbformat_minor": 2
}
