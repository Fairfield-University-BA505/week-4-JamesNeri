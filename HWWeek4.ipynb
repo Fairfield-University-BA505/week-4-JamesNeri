{
 "cells": [
  {
   "cell_type": "markdown",
   "metadata": {},
   "source": [
    "## Q1. Code Problem\n",
    "\n",
    "Suppose two players (A, B) play a game of dice. Each player has a regular 6-sided dice (1 - 6). \n",
    "\n",
    "In each round, the player with larger number on the dice wins - the results is the winning player (A or B); if tied, then the result is 'tied'.\n",
    "\n",
    "The game has ten (10) rounds, write a function to record the results of the game.\n",
    "\n",
    "Example:\n",
    "If A rolls a 6 and B rolls a 4 in a round, output is 'A';\n",
    "If A rolls a 3 and B rools a 3 in a round, output is 'tied'.\n",
    "\n",
    "\n",
    "Use the code block below to complete your code. Remember to use loop to rebuild this program.\n",
    "\n",
    "__NOTE__: last week we try run the function 10 times, now we can use loop for this."
   ]
  },
  {
   "cell_type": "code",
   "execution_count": 10,
   "metadata": {},
   "outputs": [
    {
     "name": "stdout",
     "output_type": "stream",
     "text": [
      "Player A: 5 Player B: 3 A Wins\n",
      "Player A: 4 Player B: 1 A Wins\n",
      "Player A: 2 Player B: 2 Tied\n",
      "Player A: 5 Player B: 5 Tied\n",
      "Player A: 4 Player B: 1 A Wins\n",
      "Player A: 3 Player B: 1 A Wins\n",
      "Player A: 6 Player B: 3 A Wins\n",
      "Player A: 6 Player B: 6 Tied\n",
      "Player A: 2 Player B: 5 B Wins\n",
      "Player A: 4 Player B: 4 Tied\n",
      "Game Over\n"
     ]
    }
   ],
   "source": [
    "#import random\n",
    "import random\n",
    "#import randint\n",
    "from random import randint\n",
    "#range is 1-6\n",
    "#use n to count the rounds of the game\n",
    "n=0\n",
    "#limits the number of rounds to 10\n",
    "while n<10:\n",
    "    n=n+1\n",
    "    #creates rolls for players A and B\n",
    "    playerA=randint(1 ,6)\n",
    "    playerB=randint(1, 6)\n",
    "    #determines who wins each round using comparison operators\n",
    "    if playerA > playerB:\n",
    "        print(\"Player A:\", playerA, \"Player B:\", playerB, \"A Wins\")\n",
    "    elif playerB > playerA:\n",
    "        print(\"Player A:\", playerA, \"Player B:\", playerB, \"B Wins\")\n",
    "    else:\n",
    "        print(\"Player A:\", playerA, \"Player B:\", playerB, \"Tied\")\n",
    "print(\"Game Over\")"
   ]
  },
  {
   "cell_type": "markdown",
   "metadata": {},
   "source": [
    "## Q2. Code Completion Problem\n",
    "\n",
    "Weite a function to check if a list contains an element.\n",
    "- Use a random integer generator to generate an integer (`i`) between 0 and 5;\n",
    "- Based on the value of `i`, generate a list (`int_lst`) of integers (between 0 and 9) with length of `i`;\n",
    "    - you need to use a `for` loop here\n",
    "- Use a random integer generator to generate an integer (`j`) between 0 and 9;\n",
    "- Check if any element in `int_lst` equals to `j`.\n",
    "    - output `int_lst` and `j`\n",
    "    - if `int_lst` contains `j` then output `found!`\n",
    "    - otherwise output `not found!`"
   ]
  },
  {
   "cell_type": "code",
   "execution_count": 2,
   "metadata": {},
   "outputs": [],
   "source": [
    "import random\n",
    "from random import randint\n",
    "# generate random integer list of random length\n",
    "def lst_gen():\n",
    "    int_lst = []\n",
    "    i =  randint(0, 5) # complete code here to generate a value between 0 and 5\n",
    "    # generates `i` random integers and store them in `int_lst`\n",
    "    for x in range(i + 1):\n",
    "        rand_int =  randint(0, 9) # complete code here to generate a value between 0 and 9\n",
    "        int_lst.append(rand_int)\n",
    "    \n",
    "    return(int_lst)\n",
    "# check if `int_lst` contains `j`\n",
    "def lst_check():\n",
    "    j = randint(0, 9) # complete code here to generate a value between 0 and 9\n",
    "    int_lst = lst_gen()\n",
    "    # write code here to output `int_lst` and `j`\n",
    "    # complete code below to iterate through `int_lst`\n",
    "    for x in int_lst:\n",
    "        if x==j:\n",
    "            print(\"found!\")\n",
    "        # check if `int_lst` contains `j` by comparing elements with j (`==`)\n",
    "        else:\n",
    "            print(\"not found!\")\n",
    "            # if found print `found!`\n",
    "            #print('found!') # or return('found!')\n",
    "            #break\n",
    "    # otherwise print `not found!`\n",
    "#print('done!')\n"
   ]
  },
  {
   "cell_type": "code",
   "execution_count": 3,
   "metadata": {},
   "outputs": [
    {
     "name": "stdout",
     "output_type": "stream",
     "text": [
      "found!\n",
      "found!\n",
      "not found!\n",
      "not found!\n",
      "not found!\n",
      "not found!\n"
     ]
    }
   ],
   "source": [
    "# test your function\n",
    "lst_check()"
   ]
  },
  {
   "cell_type": "markdown",
   "metadata": {},
   "source": [
    "## Q3. Coding Problem\n",
    "\n",
    "Write a function to calculate the mean of a colletion of 10 integers, using the equation below.\n",
    "\n",
    "$ mean = \\frac{sum}{count} $\n",
    "\n",
    "`sum` is the total sum of all integers, `count` is the number of integers (`count = 10`).\n",
    "\n",
    "- use random integer generator to generate 10 integers between 0 and 100\n",
    "- calculate the sum of all 10 integers\n",
    "- calculate the mean\n",
    "\n",
    "Use the code block below to write and test your function."
   ]
  },
  {
   "cell_type": "code",
   "execution_count": 40,
   "metadata": {},
   "outputs": [
    {
     "name": "stdout",
     "output_type": "stream",
     "text": [
      "[95, 59, 100, 78, 95, 96, 86, 53, 7, 52]\n",
      "mean:  72.1\n"
     ]
    }
   ],
   "source": [
    "#import random\n",
    "import random\n",
    "#import randint\n",
    "from random import randint\n",
    "#10 items from 0-100\n",
    "sheets=[]\n",
    "count=0\n",
    "#creates 10 entries ranging from 0-100 and adds them to list \"sheets\"\n",
    "while count<10:\n",
    "    count=count+1\n",
    "    sheet=randint(0,100)\n",
    "    sheets.append(sheet)\n",
    "print(sheets)\n",
    "#calculate and print summary stastistic of the list\n",
    "average = sum(sheets)/count\n",
    "print(\"mean: \", average)"
   ]
  },
  {
   "cell_type": "markdown",
   "metadata": {},
   "source": [
    "## Q4. Coding Problem\n",
    "\n",
    "Write a function to generate a simple histogram based on a collection of random integers.\n",
    "- A function is provided to you to generate a list of random integers;\n",
    "- Your job is to take every element in the list:\n",
    "    - based on the value of the element, print dashes (`-`)\n",
    "    - at the end of each dash sequence, print `|`"
   ]
  },
  {
   "cell_type": "code",
   "execution_count": 65,
   "metadata": {},
   "outputs": [
    {
     "data": {
      "text/plain": [
       "[9, 2, 3, 8, 8, 1, 7, 5, 9, 2]"
      ]
     },
     "execution_count": 65,
     "metadata": {},
     "output_type": "execute_result"
    }
   ],
   "source": [
    "import random\n",
    "def random_lst_gen(x = 10):\n",
    "    random_lst = []\n",
    "    for i in range(x):\n",
    "        random_lst.append(random.randint(1, 9))\n",
    "    return random_lst\n",
    "\n",
    "my_lst = random_lst_gen()\n",
    "my_lst"
   ]
  },
  {
   "cell_type": "code",
   "execution_count": 66,
   "metadata": {},
   "outputs": [
    {
     "name": "stdout",
     "output_type": "stream",
     "text": [
      "---------|\n",
      "--|\n",
      "---|\n",
      "--------|\n",
      "--------|\n",
      "-|\n",
      "-------|\n",
      "-----|\n",
      "---------|\n",
      "--|\n"
     ]
    }
   ],
   "source": [
    "# write your function here \n",
    "def my_hist(my_lst):\n",
    "    # complete the code here\n",
    "    for i in my_lst:\n",
    "        print(\"-\"*i+\"|\")\n",
    "my_hist(my_lst)"
   ]
  },
  {
   "cell_type": "markdown",
   "metadata": {},
   "source": [
    "## Q5. Check Factors\n",
    "\n",
    "Write a function to find all factors of a random integer between 1 and 50.\n",
    "- A factor is an integer divides another integer evenly [ref](https://www.britannica.com/science/factor-mathematics).\n",
    "\n",
    "Example input and output:\n",
    "```\n",
    "8 -> 1, 2, 4, 8\n",
    "13 -> 1, 13\n",
    "```\n",
    "\n",
    "__HINT:__ you should iterate from 1 to the random integer, and use residual (`%`) to check if the current number is a factor.\n",
    "\n",
    "Use the code block below to write and test your function."
   ]
  },
  {
   "cell_type": "code",
   "execution_count": 1,
   "metadata": {},
   "outputs": [],
   "source": [
    "import random\n",
    "from random import randint\n",
    "def factors(x = 50):\n",
    "    number=randint(1, 50)\n",
    "    for i in range(number):\n",
    "        if number % i == 0:\n",
    "            print(i)\n",
    "#x=0"
   ]
  },
  {
   "cell_type": "code",
   "execution_count": 2,
   "metadata": {},
   "outputs": [
    {
     "ename": "NameError",
     "evalue": "name 'x' is not defined",
     "output_type": "error",
     "traceback": [
      "\u001b[0;31m---------------------------------------------------------------------------\u001b[0m",
      "\u001b[0;31mNameError\u001b[0m                                 Traceback (most recent call last)",
      "\u001b[0;32m<ipython-input-2-1006179714b0>\u001b[0m in \u001b[0;36m<module>\u001b[0;34m\u001b[0m\n\u001b[0;32m----> 1\u001b[0;31m \u001b[0mfactors\u001b[0m\u001b[0;34m(\u001b[0m\u001b[0mx\u001b[0m\u001b[0;34m)\u001b[0m\u001b[0;34m\u001b[0m\u001b[0;34m\u001b[0m\u001b[0m\n\u001b[0m",
      "\u001b[0;31mNameError\u001b[0m: name 'x' is not defined"
     ]
    }
   ],
   "source": [
    "factors(x)"
   ]
  }
 ],
 "metadata": {
  "kernelspec": {
   "display_name": "Python 3",
   "language": "python",
   "name": "python3"
  },
  "language_info": {
   "codemirror_mode": {
    "name": "ipython",
    "version": 3
   },
   "file_extension": ".py",
   "mimetype": "text/x-python",
   "name": "python",
   "nbconvert_exporter": "python",
   "pygments_lexer": "ipython3",
   "version": "3.6.7"
  }
 },
 "nbformat": 4,
 "nbformat_minor": 2
}
